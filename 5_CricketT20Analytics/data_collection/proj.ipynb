{
 "cells": [
  {
   "attachments": {},
   "cell_type": "markdown",
   "metadata": {},
   "source": [
    "<h1 align=\"center\"> T20 World Cup Cricket Data Pre Processing </h1>"
   ]
  },
  {
   "attachments": {},
   "cell_type": "markdown",
   "metadata": {},
   "source": [
    "**Importing Libraries**"
   ]
  },
  {
   "cell_type": "code",
   "execution_count": 1,
   "metadata": {},
   "outputs": [],
   "source": [
    "import pandas as pd\n",
    "import json"
   ]
  },
  {
   "attachments": {},
   "cell_type": "markdown",
   "metadata": {},
   "source": [
    "<h4 style=\"color:blue\">(1) Process Match Results</h4>"
   ]
  },
  {
   "cell_type": "code",
   "execution_count": 12,
   "metadata": {},
   "outputs": [
    {
     "data": {
      "text/html": [
       "<div>\n",
       "<style scoped>\n",
       "    .dataframe tbody tr th:only-of-type {\n",
       "        vertical-align: middle;\n",
       "    }\n",
       "\n",
       "    .dataframe tbody tr th {\n",
       "        vertical-align: top;\n",
       "    }\n",
       "\n",
       "    .dataframe thead th {\n",
       "        text-align: right;\n",
       "    }\n",
       "</style>\n",
       "<table border=\"1\" class=\"dataframe\">\n",
       "  <thead>\n",
       "    <tr style=\"text-align: right;\">\n",
       "      <th></th>\n",
       "      <th>team1</th>\n",
       "      <th>team2</th>\n",
       "      <th>winner</th>\n",
       "      <th>margin</th>\n",
       "      <th>ground</th>\n",
       "      <th>matchDate</th>\n",
       "      <th>scorecard</th>\n",
       "    </tr>\n",
       "  </thead>\n",
       "  <tbody>\n",
       "    <tr>\n",
       "      <th>0</th>\n",
       "      <td>Namibia</td>\n",
       "      <td>Sri Lanka</td>\n",
       "      <td>Namibia</td>\n",
       "      <td>55 runs</td>\n",
       "      <td>Geelong</td>\n",
       "      <td>Oct 16, 2022</td>\n",
       "      <td>T20I # 1823</td>\n",
       "    </tr>\n",
       "    <tr>\n",
       "      <th>1</th>\n",
       "      <td>Netherlands</td>\n",
       "      <td>U.A.E.</td>\n",
       "      <td>Netherlands</td>\n",
       "      <td>3 wickets</td>\n",
       "      <td>Geelong</td>\n",
       "      <td>Oct 16, 2022</td>\n",
       "      <td>T20I # 1825</td>\n",
       "    </tr>\n",
       "    <tr>\n",
       "      <th>2</th>\n",
       "      <td>Scotland</td>\n",
       "      <td>West Indies</td>\n",
       "      <td>Scotland</td>\n",
       "      <td>42 runs</td>\n",
       "      <td>Hobart</td>\n",
       "      <td>Oct 17, 2022</td>\n",
       "      <td>T20I # 1826</td>\n",
       "    </tr>\n",
       "    <tr>\n",
       "      <th>3</th>\n",
       "      <td>Ireland</td>\n",
       "      <td>Zimbabwe</td>\n",
       "      <td>Zimbabwe</td>\n",
       "      <td>31 runs</td>\n",
       "      <td>Hobart</td>\n",
       "      <td>Oct 17, 2022</td>\n",
       "      <td>T20I # 1828</td>\n",
       "    </tr>\n",
       "    <tr>\n",
       "      <th>4</th>\n",
       "      <td>Namibia</td>\n",
       "      <td>Netherlands</td>\n",
       "      <td>Netherlands</td>\n",
       "      <td>5 wickets</td>\n",
       "      <td>Geelong</td>\n",
       "      <td>Oct 18, 2022</td>\n",
       "      <td>T20I # 1830</td>\n",
       "    </tr>\n",
       "  </tbody>\n",
       "</table>\n",
       "</div>"
      ],
      "text/plain": [
       "         team1        team2       winner     margin   ground     matchDate  \\\n",
       "0      Namibia    Sri Lanka      Namibia    55 runs  Geelong  Oct 16, 2022   \n",
       "1  Netherlands       U.A.E.  Netherlands  3 wickets  Geelong  Oct 16, 2022   \n",
       "2     Scotland  West Indies     Scotland    42 runs   Hobart  Oct 17, 2022   \n",
       "3      Ireland     Zimbabwe     Zimbabwe    31 runs   Hobart  Oct 17, 2022   \n",
       "4      Namibia  Netherlands  Netherlands  5 wickets  Geelong  Oct 18, 2022   \n",
       "\n",
       "     scorecard  \n",
       "0  T20I # 1823  \n",
       "1  T20I # 1825  \n",
       "2  T20I # 1826  \n",
       "3  T20I # 1828  \n",
       "4  T20I # 1830  "
      ]
     },
     "execution_count": 12,
     "metadata": {},
     "output_type": "execute_result"
    }
   ],
   "source": [
    "with open('t20_json_files/t20_wc_match_results.json') as f:\n",
    "    data = json.load(f)\n",
    "df_match = pd.DataFrame(data[0]['matchSummary'])\n",
    "df_match.head()"
   ]
  },
  {
   "cell_type": "code",
   "execution_count": 13,
   "metadata": {},
   "outputs": [
    {
     "name": "stdout",
     "output_type": "stream",
     "text": [
      "Total number of Rows : 45\n",
      "Total number of columns : 7\n"
     ]
    }
   ],
   "source": [
    "print(\"Total number of Rows :\",df_match.shape[0])\n",
    "print(\"Total number of columns :\",df_match.shape[1])"
   ]
  },
  {
   "attachments": {},
   "cell_type": "markdown",
   "metadata": {},
   "source": [
    "**Use scorecard as a match id to link with other tables**"
   ]
  },
  {
   "cell_type": "code",
   "execution_count": 14,
   "metadata": {},
   "outputs": [
    {
     "data": {
      "text/html": [
       "<div>\n",
       "<style scoped>\n",
       "    .dataframe tbody tr th:only-of-type {\n",
       "        vertical-align: middle;\n",
       "    }\n",
       "\n",
       "    .dataframe tbody tr th {\n",
       "        vertical-align: top;\n",
       "    }\n",
       "\n",
       "    .dataframe thead th {\n",
       "        text-align: right;\n",
       "    }\n",
       "</style>\n",
       "<table border=\"1\" class=\"dataframe\">\n",
       "  <thead>\n",
       "    <tr style=\"text-align: right;\">\n",
       "      <th></th>\n",
       "      <th>team1</th>\n",
       "      <th>team2</th>\n",
       "      <th>winner</th>\n",
       "      <th>margin</th>\n",
       "      <th>ground</th>\n",
       "      <th>matchDate</th>\n",
       "      <th>match_id</th>\n",
       "    </tr>\n",
       "  </thead>\n",
       "  <tbody>\n",
       "    <tr>\n",
       "      <th>0</th>\n",
       "      <td>Namibia</td>\n",
       "      <td>Sri Lanka</td>\n",
       "      <td>Namibia</td>\n",
       "      <td>55 runs</td>\n",
       "      <td>Geelong</td>\n",
       "      <td>Oct 16, 2022</td>\n",
       "      <td>T20I # 1823</td>\n",
       "    </tr>\n",
       "    <tr>\n",
       "      <th>1</th>\n",
       "      <td>Netherlands</td>\n",
       "      <td>U.A.E.</td>\n",
       "      <td>Netherlands</td>\n",
       "      <td>3 wickets</td>\n",
       "      <td>Geelong</td>\n",
       "      <td>Oct 16, 2022</td>\n",
       "      <td>T20I # 1825</td>\n",
       "    </tr>\n",
       "    <tr>\n",
       "      <th>2</th>\n",
       "      <td>Scotland</td>\n",
       "      <td>West Indies</td>\n",
       "      <td>Scotland</td>\n",
       "      <td>42 runs</td>\n",
       "      <td>Hobart</td>\n",
       "      <td>Oct 17, 2022</td>\n",
       "      <td>T20I # 1826</td>\n",
       "    </tr>\n",
       "    <tr>\n",
       "      <th>3</th>\n",
       "      <td>Ireland</td>\n",
       "      <td>Zimbabwe</td>\n",
       "      <td>Zimbabwe</td>\n",
       "      <td>31 runs</td>\n",
       "      <td>Hobart</td>\n",
       "      <td>Oct 17, 2022</td>\n",
       "      <td>T20I # 1828</td>\n",
       "    </tr>\n",
       "    <tr>\n",
       "      <th>4</th>\n",
       "      <td>Namibia</td>\n",
       "      <td>Netherlands</td>\n",
       "      <td>Netherlands</td>\n",
       "      <td>5 wickets</td>\n",
       "      <td>Geelong</td>\n",
       "      <td>Oct 18, 2022</td>\n",
       "      <td>T20I # 1830</td>\n",
       "    </tr>\n",
       "  </tbody>\n",
       "</table>\n",
       "</div>"
      ],
      "text/plain": [
       "         team1        team2       winner     margin   ground     matchDate  \\\n",
       "0      Namibia    Sri Lanka      Namibia    55 runs  Geelong  Oct 16, 2022   \n",
       "1  Netherlands       U.A.E.  Netherlands  3 wickets  Geelong  Oct 16, 2022   \n",
       "2     Scotland  West Indies     Scotland    42 runs   Hobart  Oct 17, 2022   \n",
       "3      Ireland     Zimbabwe     Zimbabwe    31 runs   Hobart  Oct 17, 2022   \n",
       "4      Namibia  Netherlands  Netherlands  5 wickets  Geelong  Oct 18, 2022   \n",
       "\n",
       "      match_id  \n",
       "0  T20I # 1823  \n",
       "1  T20I # 1825  \n",
       "2  T20I # 1826  \n",
       "3  T20I # 1828  \n",
       "4  T20I # 1830  "
      ]
     },
     "execution_count": 14,
     "metadata": {},
     "output_type": "execute_result"
    }
   ],
   "source": [
    "df_match.rename({'scorecard':'match_id'},axis=1,inplace=True)\n",
    "df_match.head()"
   ]
  },
  {
   "attachments": {},
   "cell_type": "markdown",
   "metadata": {},
   "source": [
    "**Create a match ids dictionary that maps team names to a unique match id. This will be useful later on to link with other tables**\n"
   ]
  },
  {
   "cell_type": "code",
   "execution_count": 17,
   "metadata": {},
   "outputs": [],
   "source": [
    "match_ids_dict = {}\n",
    "\n",
    "for index,row in df_match.iterrows():\n",
    "    key1 = row['team1'] + ' Vs ' + row['team2']\n",
    "    key2 = row['team2'] + ' Vs ' + row['team1']\n",
    "\n",
    "    match_ids_dict[key1] = row['match_id']\n",
    "    match_ids_dict[key2] = row['match_id']"
   ]
  },
  {
   "cell_type": "code",
   "execution_count": 19,
   "metadata": {},
   "outputs": [
    {
     "data": {
      "text/html": [
       "<div>\n",
       "<style scoped>\n",
       "    .dataframe tbody tr th:only-of-type {\n",
       "        vertical-align: middle;\n",
       "    }\n",
       "\n",
       "    .dataframe tbody tr th {\n",
       "        vertical-align: top;\n",
       "    }\n",
       "\n",
       "    .dataframe thead th {\n",
       "        text-align: right;\n",
       "    }\n",
       "</style>\n",
       "<table border=\"1\" class=\"dataframe\">\n",
       "  <thead>\n",
       "    <tr style=\"text-align: right;\">\n",
       "      <th></th>\n",
       "      <th>team1</th>\n",
       "      <th>team2</th>\n",
       "      <th>winner</th>\n",
       "      <th>margin</th>\n",
       "      <th>ground</th>\n",
       "      <th>matchDate</th>\n",
       "      <th>match_id</th>\n",
       "    </tr>\n",
       "  </thead>\n",
       "  <tbody>\n",
       "    <tr>\n",
       "      <th>0</th>\n",
       "      <td>Namibia</td>\n",
       "      <td>Sri Lanka</td>\n",
       "      <td>Namibia</td>\n",
       "      <td>55 runs</td>\n",
       "      <td>Geelong</td>\n",
       "      <td>Oct 16, 2022</td>\n",
       "      <td>T20I # 1823</td>\n",
       "    </tr>\n",
       "    <tr>\n",
       "      <th>1</th>\n",
       "      <td>Netherlands</td>\n",
       "      <td>U.A.E.</td>\n",
       "      <td>Netherlands</td>\n",
       "      <td>3 wickets</td>\n",
       "      <td>Geelong</td>\n",
       "      <td>Oct 16, 2022</td>\n",
       "      <td>T20I # 1825</td>\n",
       "    </tr>\n",
       "    <tr>\n",
       "      <th>2</th>\n",
       "      <td>Scotland</td>\n",
       "      <td>West Indies</td>\n",
       "      <td>Scotland</td>\n",
       "      <td>42 runs</td>\n",
       "      <td>Hobart</td>\n",
       "      <td>Oct 17, 2022</td>\n",
       "      <td>T20I # 1826</td>\n",
       "    </tr>\n",
       "    <tr>\n",
       "      <th>3</th>\n",
       "      <td>Ireland</td>\n",
       "      <td>Zimbabwe</td>\n",
       "      <td>Zimbabwe</td>\n",
       "      <td>31 runs</td>\n",
       "      <td>Hobart</td>\n",
       "      <td>Oct 17, 2022</td>\n",
       "      <td>T20I # 1828</td>\n",
       "    </tr>\n",
       "    <tr>\n",
       "      <th>4</th>\n",
       "      <td>Namibia</td>\n",
       "      <td>Netherlands</td>\n",
       "      <td>Netherlands</td>\n",
       "      <td>5 wickets</td>\n",
       "      <td>Geelong</td>\n",
       "      <td>Oct 18, 2022</td>\n",
       "      <td>T20I # 1830</td>\n",
       "    </tr>\n",
       "  </tbody>\n",
       "</table>\n",
       "</div>"
      ],
      "text/plain": [
       "         team1        team2       winner     margin   ground     matchDate  \\\n",
       "0      Namibia    Sri Lanka      Namibia    55 runs  Geelong  Oct 16, 2022   \n",
       "1  Netherlands       U.A.E.  Netherlands  3 wickets  Geelong  Oct 16, 2022   \n",
       "2     Scotland  West Indies     Scotland    42 runs   Hobart  Oct 17, 2022   \n",
       "3      Ireland     Zimbabwe     Zimbabwe    31 runs   Hobart  Oct 17, 2022   \n",
       "4      Namibia  Netherlands  Netherlands  5 wickets  Geelong  Oct 18, 2022   \n",
       "\n",
       "      match_id  \n",
       "0  T20I # 1823  \n",
       "1  T20I # 1825  \n",
       "2  T20I # 1826  \n",
       "3  T20I # 1828  \n",
       "4  T20I # 1830  "
      ]
     },
     "execution_count": 19,
     "metadata": {},
     "output_type": "execute_result"
    }
   ],
   "source": [
    "df_match.head()"
   ]
  },
  {
   "cell_type": "code",
   "execution_count": null,
   "metadata": {},
   "outputs": [],
   "source": []
  }
 ],
 "metadata": {
  "kernelspec": {
   "display_name": "base",
   "language": "python",
   "name": "python3"
  },
  "language_info": {
   "codemirror_mode": {
    "name": "ipython",
    "version": 3
   },
   "file_extension": ".py",
   "mimetype": "text/x-python",
   "name": "python",
   "nbconvert_exporter": "python",
   "pygments_lexer": "ipython3",
   "version": "3.9.13"
  },
  "orig_nbformat": 4,
  "vscode": {
   "interpreter": {
    "hash": "40d3a090f54c6569ab1632332b64b2c03c39dcf918b08424e98f38b5ae0af88f"
   }
  }
 },
 "nbformat": 4,
 "nbformat_minor": 2
}
